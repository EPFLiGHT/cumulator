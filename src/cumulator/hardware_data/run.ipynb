{
 "cells": [
  {
   "cell_type": "code",
   "execution_count": 2,
   "metadata": {},
   "outputs": [
    {
     "name": "stderr",
     "output_type": "stream",
     "text": [
      "  0%|          | 0/132 [00:00<?, ?it/s]"
     ]
    },
    {
     "name": "stdout",
     "output_type": "stream",
     "text": [
      "\n",
      "TDP:1\n",
      "\n"
     ]
    },
    {
     "name": "stderr",
     "output_type": "stream",
     "text": [
      "  1%|          | 1/132 [00:00<00:48,  2.68it/s]"
     ]
    },
    {
     "name": "stdout",
     "output_type": "stream",
     "text": [
      "https://www.techpowerup.com/cpu-specs/?tdp=1%20W&sort=name\n",
      "\n",
      "TDP:2\n",
      "\n"
     ]
    },
    {
     "name": "stderr",
     "output_type": "stream",
     "text": [
      "  2%|▏         | 2/132 [00:00<00:47,  2.74it/s]"
     ]
    },
    {
     "name": "stdout",
     "output_type": "stream",
     "text": [
      "https://www.techpowerup.com/cpu-specs/?tdp=2%20W&sort=name\n",
      "\n",
      "TDP:3\n",
      "\n"
     ]
    },
    {
     "name": "stderr",
     "output_type": "stream",
     "text": [
      "  2%|▏         | 3/132 [00:01<00:47,  2.69it/s]"
     ]
    },
    {
     "name": "stdout",
     "output_type": "stream",
     "text": [
      "https://www.techpowerup.com/cpu-specs/?tdp=3%20W&sort=name\n",
      "\n",
      "TDP:4\n",
      "\n"
     ]
    },
    {
     "name": "stderr",
     "output_type": "stream",
     "text": [
      "  3%|▎         | 4/132 [00:01<00:48,  2.66it/s]"
     ]
    },
    {
     "name": "stdout",
     "output_type": "stream",
     "text": [
      "https://www.techpowerup.com/cpu-specs/?tdp=4%20W&sort=name\n",
      "\n",
      "TDP:5\n",
      "\n"
     ]
    },
    {
     "name": "stderr",
     "output_type": "stream",
     "text": [
      "  4%|▍         | 5/132 [00:01<00:50,  2.52it/s]"
     ]
    },
    {
     "name": "stdout",
     "output_type": "stream",
     "text": [
      "https://www.techpowerup.com/cpu-specs/?tdp=5%20W&sort=name\n",
      "\n",
      "TDP:6\n",
      "\n"
     ]
    },
    {
     "name": "stderr",
     "output_type": "stream",
     "text": [
      "  5%|▍         | 6/132 [00:02<00:49,  2.53it/s]"
     ]
    },
    {
     "name": "stdout",
     "output_type": "stream",
     "text": [
      "https://www.techpowerup.com/cpu-specs/?tdp=6%20W&sort=name\n",
      "\n",
      "TDP:7\n",
      "\n"
     ]
    },
    {
     "name": "stderr",
     "output_type": "stream",
     "text": [
      "  5%|▌         | 7/132 [00:03<01:09,  1.81it/s]"
     ]
    },
    {
     "name": "stdout",
     "output_type": "stream",
     "text": [
      "https://www.techpowerup.com/cpu-specs/?tdp=7%20W&sort=name\n",
      "\n",
      "TDP:8\n",
      "\n"
     ]
    },
    {
     "name": "stderr",
     "output_type": "stream",
     "text": [
      "  6%|▌         | 8/132 [00:03<01:02,  2.00it/s]"
     ]
    },
    {
     "name": "stdout",
     "output_type": "stream",
     "text": [
      "https://www.techpowerup.com/cpu-specs/?tdp=8%20W&sort=name\n",
      "\n",
      "TDP:9\n",
      "\n",
      "https://www.techpowerup.com/cpu-specs/?tdp=9%20W&sort=name\n"
     ]
    },
    {
     "name": "stderr",
     "output_type": "stream",
     "text": [
      "  7%|▋         | 9/132 [20:04<12:50:18, 375.76s/it]"
     ]
    },
    {
     "name": "stdout",
     "output_type": "stream",
     "text": [
      "\n",
      "TDP:10\n",
      "\n"
     ]
    },
    {
     "name": "stderr",
     "output_type": "stream",
     "text": [
      "  8%|▊         | 10/132 [20:04<8:48:26, 259.89s/it]"
     ]
    },
    {
     "name": "stdout",
     "output_type": "stream",
     "text": [
      "https://www.techpowerup.com/cpu-specs/?tdp=10%20W&sort=name\n",
      "\n",
      "TDP:12\n",
      "\n"
     ]
    },
    {
     "name": "stderr",
     "output_type": "stream",
     "text": [
      "  8%|▊         | 11/132 [20:05<6:03:56, 180.46s/it]"
     ]
    },
    {
     "name": "stdout",
     "output_type": "stream",
     "text": [
      "https://www.techpowerup.com/cpu-specs/?tdp=12%20W&sort=name\n",
      "\n",
      "TDP:13\n",
      "\n"
     ]
    },
    {
     "name": "stderr",
     "output_type": "stream",
     "text": [
      "  9%|▉         | 12/132 [20:05<4:11:22, 125.68s/it]"
     ]
    },
    {
     "name": "stdout",
     "output_type": "stream",
     "text": [
      "https://www.techpowerup.com/cpu-specs/?tdp=13%20W&sort=name\n",
      "\n",
      "TDP:15\n",
      "\n"
     ]
    },
    {
     "name": "stderr",
     "output_type": "stream",
     "text": [
      " 10%|▉         | 13/132 [20:06<2:54:00, 87.74s/it] "
     ]
    },
    {
     "name": "stdout",
     "output_type": "stream",
     "text": [
      "https://www.techpowerup.com/cpu-specs/?tdp=15%20W&sort=name\n",
      "\n",
      "TDP:17\n",
      "\n"
     ]
    },
    {
     "name": "stderr",
     "output_type": "stream",
     "text": [
      " 11%|█         | 14/132 [20:06<2:00:41, 61.37s/it]"
     ]
    },
    {
     "name": "stdout",
     "output_type": "stream",
     "text": [
      "https://www.techpowerup.com/cpu-specs/?tdp=17%20W&sort=name\n",
      "\n",
      "TDP:18\n",
      "\n"
     ]
    },
    {
     "name": "stderr",
     "output_type": "stream",
     "text": [
      " 11%|█▏        | 15/132 [20:06<1:23:49, 42.99s/it]"
     ]
    },
    {
     "name": "stdout",
     "output_type": "stream",
     "text": [
      "https://www.techpowerup.com/cpu-specs/?tdp=18%20W&sort=name\n",
      "\n",
      "TDP:19\n",
      "\n"
     ]
    },
    {
     "name": "stderr",
     "output_type": "stream",
     "text": [
      " 12%|█▏        | 16/132 [20:07<58:19, 30.16s/it]  "
     ]
    },
    {
     "name": "stdout",
     "output_type": "stream",
     "text": [
      "https://www.techpowerup.com/cpu-specs/?tdp=19%20W&sort=name\n",
      "\n",
      "TDP:20\n",
      "\n"
     ]
    },
    {
     "name": "stderr",
     "output_type": "stream",
     "text": [
      " 13%|█▎        | 17/132 [20:07<40:39, 21.21s/it]"
     ]
    },
    {
     "name": "stdout",
     "output_type": "stream",
     "text": [
      "https://www.techpowerup.com/cpu-specs/?tdp=20%20W&sort=name\n",
      "\n",
      "TDP:21\n",
      "\n"
     ]
    },
    {
     "name": "stderr",
     "output_type": "stream",
     "text": [
      " 14%|█▎        | 18/132 [20:08<28:24, 14.96s/it]"
     ]
    },
    {
     "name": "stdout",
     "output_type": "stream",
     "text": [
      "https://www.techpowerup.com/cpu-specs/?tdp=21%20W&sort=name\n",
      "\n",
      "TDP:22\n",
      "\n",
      "https://www.techpowerup.com/cpu-specs/?tdp=22%20W&sort=name\n"
     ]
    },
    {
     "name": "stderr",
     "output_type": "stream",
     "text": [
      " 14%|█▍        | 19/132 [40:08<11:38:58, 371.14s/it]"
     ]
    },
    {
     "name": "stdout",
     "output_type": "stream",
     "text": [
      "\n",
      "TDP:23\n",
      "\n"
     ]
    },
    {
     "name": "stderr",
     "output_type": "stream",
     "text": [
      " 15%|█▌        | 20/132 [40:09<8:05:01, 259.83s/it] "
     ]
    },
    {
     "name": "stdout",
     "output_type": "stream",
     "text": [
      "https://www.techpowerup.com/cpu-specs/?tdp=23%20W&sort=name\n",
      "\n",
      "TDP:24\n",
      "\n"
     ]
    },
    {
     "name": "stderr",
     "output_type": "stream",
     "text": [
      " 16%|█▌        | 21/132 [40:09<5:36:37, 181.96s/it]"
     ]
    },
    {
     "name": "stdout",
     "output_type": "stream",
     "text": [
      "https://www.techpowerup.com/cpu-specs/?tdp=24%20W&sort=name\n",
      "\n",
      "TDP:25\n",
      "\n"
     ]
    },
    {
     "name": "stderr",
     "output_type": "stream",
     "text": [
      " 17%|█▋        | 22/132 [40:10<3:53:44, 127.49s/it]"
     ]
    },
    {
     "name": "stdout",
     "output_type": "stream",
     "text": [
      "https://www.techpowerup.com/cpu-specs/?tdp=25%20W&sort=name\n",
      "\n",
      "TDP:26\n",
      "\n"
     ]
    },
    {
     "name": "stderr",
     "output_type": "stream",
     "text": [
      " 17%|█▋        | 23/132 [40:10<2:42:20, 89.36s/it] "
     ]
    },
    {
     "name": "stdout",
     "output_type": "stream",
     "text": [
      "https://www.techpowerup.com/cpu-specs/?tdp=26%20W&sort=name\n",
      "\n",
      "TDP:27\n",
      "\n"
     ]
    },
    {
     "name": "stderr",
     "output_type": "stream",
     "text": [
      " 18%|█▊        | 24/132 [40:11<1:52:48, 62.67s/it]"
     ]
    },
    {
     "name": "stdout",
     "output_type": "stream",
     "text": [
      "https://www.techpowerup.com/cpu-specs/?tdp=27%20W&sort=name\n",
      "\n",
      "TDP:28\n",
      "\n"
     ]
    },
    {
     "name": "stderr",
     "output_type": "stream",
     "text": [
      " 19%|█▉        | 25/132 [40:11<1:18:27, 44.00s/it]"
     ]
    },
    {
     "name": "stdout",
     "output_type": "stream",
     "text": [
      "https://www.techpowerup.com/cpu-specs/?tdp=28%20W&sort=name\n",
      "\n",
      "TDP:29\n",
      "\n"
     ]
    },
    {
     "name": "stderr",
     "output_type": "stream",
     "text": [
      " 20%|█▉        | 26/132 [40:11<54:37, 30.92s/it]  "
     ]
    },
    {
     "name": "stdout",
     "output_type": "stream",
     "text": [
      "https://www.techpowerup.com/cpu-specs/?tdp=29%20W&sort=name\n",
      "\n",
      "TDP:30\n",
      "\n"
     ]
    },
    {
     "name": "stderr",
     "output_type": "stream",
     "text": [
      " 20%|██        | 27/132 [40:12<38:06, 21.78s/it]"
     ]
    },
    {
     "name": "stdout",
     "output_type": "stream",
     "text": [
      "https://www.techpowerup.com/cpu-specs/?tdp=30%20W&sort=name\n",
      "\n",
      "TDP:31\n",
      "\n"
     ]
    },
    {
     "name": "stderr",
     "output_type": "stream",
     "text": [
      " 21%|██        | 28/132 [40:12<26:38, 15.37s/it]"
     ]
    },
    {
     "name": "stdout",
     "output_type": "stream",
     "text": [
      "https://www.techpowerup.com/cpu-specs/?tdp=31%20W&sort=name\n",
      "\n",
      "TDP:32\n",
      "\n",
      "https://www.techpowerup.com/cpu-specs/?tdp=32%20W&sort=name\n"
     ]
    },
    {
     "name": "stderr",
     "output_type": "stream",
     "text": [
      " 22%|██▏       | 29/132 [1:00:13<10:36:55, 371.02s/it]"
     ]
    },
    {
     "name": "stdout",
     "output_type": "stream",
     "text": [
      "\n",
      "TDP:34\n",
      "\n"
     ]
    },
    {
     "name": "stderr",
     "output_type": "stream",
     "text": [
      " 23%|██▎       | 30/132 [1:00:14<7:21:42, 259.83s/it] "
     ]
    },
    {
     "name": "stdout",
     "output_type": "stream",
     "text": [
      "https://www.techpowerup.com/cpu-specs/?tdp=34%20W&sort=name\n",
      "\n",
      "TDP:35\n",
      "\n"
     ]
    },
    {
     "name": "stderr",
     "output_type": "stream",
     "text": [
      " 23%|██▎       | 31/132 [1:00:14<5:06:23, 182.02s/it]"
     ]
    },
    {
     "name": "stdout",
     "output_type": "stream",
     "text": [
      "https://www.techpowerup.com/cpu-specs/?tdp=35%20W&sort=name\n",
      "\n",
      "TDP:36\n",
      "\n"
     ]
    },
    {
     "name": "stderr",
     "output_type": "stream",
     "text": [
      " 24%|██▍       | 32/132 [1:00:14<3:32:33, 127.53s/it]"
     ]
    },
    {
     "name": "stdout",
     "output_type": "stream",
     "text": [
      "https://www.techpowerup.com/cpu-specs/?tdp=36%20W&sort=name\n",
      "\n",
      "TDP:37\n",
      "\n"
     ]
    },
    {
     "name": "stderr",
     "output_type": "stream",
     "text": [
      " 25%|██▌       | 33/132 [1:00:15<2:27:29, 89.39s/it] "
     ]
    },
    {
     "name": "stdout",
     "output_type": "stream",
     "text": [
      "https://www.techpowerup.com/cpu-specs/?tdp=37%20W&sort=name\n",
      "\n",
      "TDP:38\n",
      "\n"
     ]
    },
    {
     "name": "stderr",
     "output_type": "stream",
     "text": [
      " 26%|██▌       | 34/132 [1:00:15<1:42:24, 62.70s/it]"
     ]
    },
    {
     "name": "stdout",
     "output_type": "stream",
     "text": [
      "https://www.techpowerup.com/cpu-specs/?tdp=38%20W&sort=name\n",
      "\n",
      "TDP:40\n",
      "\n"
     ]
    },
    {
     "name": "stderr",
     "output_type": "stream",
     "text": [
      " 27%|██▋       | 35/132 [1:00:16<1:11:08, 44.00s/it]"
     ]
    },
    {
     "name": "stdout",
     "output_type": "stream",
     "text": [
      "https://www.techpowerup.com/cpu-specs/?tdp=40%20W&sort=name\n",
      "\n",
      "TDP:41\n",
      "\n"
     ]
    },
    {
     "name": "stderr",
     "output_type": "stream",
     "text": [
      " 27%|██▋       | 36/132 [1:00:16<49:28, 30.93s/it]  "
     ]
    },
    {
     "name": "stdout",
     "output_type": "stream",
     "text": [
      "https://www.techpowerup.com/cpu-specs/?tdp=41%20W&sort=name\n",
      "\n",
      "TDP:43\n",
      "\n"
     ]
    },
    {
     "name": "stderr",
     "output_type": "stream",
     "text": [
      " 28%|██▊       | 37/132 [1:00:16<34:27, 21.76s/it]"
     ]
    },
    {
     "name": "stdout",
     "output_type": "stream",
     "text": [
      "https://www.techpowerup.com/cpu-specs/?tdp=43%20W&sort=name\n",
      "\n",
      "TDP:44\n",
      "\n"
     ]
    },
    {
     "name": "stderr",
     "output_type": "stream",
     "text": [
      " 29%|██▉       | 38/132 [1:00:17<24:03, 15.36s/it]"
     ]
    },
    {
     "name": "stdout",
     "output_type": "stream",
     "text": [
      "https://www.techpowerup.com/cpu-specs/?tdp=44%20W&sort=name\n",
      "\n",
      "TDP:45\n",
      "\n",
      "https://www.techpowerup.com/cpu-specs/?tdp=45%20W&sort=name\n"
     ]
    },
    {
     "name": "stderr",
     "output_type": "stream",
     "text": [
      " 30%|██▉       | 39/132 [1:20:18<9:35:05, 371.03s/it]"
     ]
    },
    {
     "name": "stdout",
     "output_type": "stream",
     "text": [
      "\n",
      "TDP:46\n",
      "\n"
     ]
    },
    {
     "name": "stderr",
     "output_type": "stream",
     "text": [
      " 30%|███       | 40/132 [1:20:18<6:38:28, 259.88s/it]"
     ]
    },
    {
     "name": "stdout",
     "output_type": "stream",
     "text": [
      "https://www.techpowerup.com/cpu-specs/?tdp=46%20W&sort=name\n",
      "\n",
      "TDP:47\n",
      "\n"
     ]
    },
    {
     "name": "stderr",
     "output_type": "stream",
     "text": [
      " 31%|███       | 41/132 [1:20:19<4:36:06, 182.05s/it]"
     ]
    },
    {
     "name": "stdout",
     "output_type": "stream",
     "text": [
      "https://www.techpowerup.com/cpu-specs/?tdp=47%20W&sort=name\n",
      "\n",
      "TDP:49\n",
      "\n"
     ]
    },
    {
     "name": "stderr",
     "output_type": "stream",
     "text": [
      " 32%|███▏      | 42/132 [1:20:19<3:11:20, 127.56s/it]"
     ]
    },
    {
     "name": "stdout",
     "output_type": "stream",
     "text": [
      "https://www.techpowerup.com/cpu-specs/?tdp=49%20W&sort=name\n",
      "\n",
      "TDP:50\n",
      "\n"
     ]
    },
    {
     "name": "stderr",
     "output_type": "stream",
     "text": [
      " 33%|███▎      | 43/132 [1:20:20<2:12:38, 89.42s/it] "
     ]
    },
    {
     "name": "stdout",
     "output_type": "stream",
     "text": [
      "https://www.techpowerup.com/cpu-specs/?tdp=50%20W&sort=name\n",
      "\n",
      "TDP:51\n",
      "\n"
     ]
    },
    {
     "name": "stderr",
     "output_type": "stream",
     "text": [
      " 33%|███▎      | 44/132 [1:20:20<1:32:00, 62.74s/it]"
     ]
    },
    {
     "name": "stdout",
     "output_type": "stream",
     "text": [
      "https://www.techpowerup.com/cpu-specs/?tdp=51%20W&sort=name\n",
      "\n",
      "TDP:52\n",
      "\n"
     ]
    },
    {
     "name": "stderr",
     "output_type": "stream",
     "text": [
      " 34%|███▍      | 45/132 [1:20:20<1:03:51, 44.04s/it]"
     ]
    },
    {
     "name": "stdout",
     "output_type": "stream",
     "text": [
      "https://www.techpowerup.com/cpu-specs/?tdp=52%20W&sort=name\n",
      "\n",
      "TDP:53\n",
      "\n"
     ]
    },
    {
     "name": "stderr",
     "output_type": "stream",
     "text": [
      " 35%|███▍      | 46/132 [1:20:21<44:22, 30.96s/it]  "
     ]
    },
    {
     "name": "stdout",
     "output_type": "stream",
     "text": [
      "https://www.techpowerup.com/cpu-specs/?tdp=53%20W&sort=name\n",
      "\n",
      "TDP:54\n",
      "\n"
     ]
    },
    {
     "name": "stderr",
     "output_type": "stream",
     "text": [
      " 36%|███▌      | 47/132 [1:20:21<30:53, 21.81s/it]"
     ]
    },
    {
     "name": "stdout",
     "output_type": "stream",
     "text": [
      "https://www.techpowerup.com/cpu-specs/?tdp=54%20W&sort=name\n",
      "\n",
      "TDP:55\n",
      "\n"
     ]
    },
    {
     "name": "stderr",
     "output_type": "stream",
     "text": [
      " 36%|███▋      | 48/132 [1:20:22<21:34, 15.41s/it]"
     ]
    },
    {
     "name": "stdout",
     "output_type": "stream",
     "text": [
      "https://www.techpowerup.com/cpu-specs/?tdp=55%20W&sort=name\n",
      "\n",
      "TDP:57\n",
      "\n",
      "https://www.techpowerup.com/cpu-specs/?tdp=57%20W&sort=name\n"
     ]
    },
    {
     "name": "stderr",
     "output_type": "stream",
     "text": [
      " 37%|███▋      | 49/132 [1:40:23<8:33:19, 371.08s/it]"
     ]
    },
    {
     "name": "stdout",
     "output_type": "stream",
     "text": [
      "\n",
      "TDP:58\n",
      "\n"
     ]
    },
    {
     "name": "stderr",
     "output_type": "stream",
     "text": [
      " 38%|███▊      | 50/132 [1:40:23<5:55:09, 259.88s/it]"
     ]
    },
    {
     "name": "stdout",
     "output_type": "stream",
     "text": [
      "https://www.techpowerup.com/cpu-specs/?tdp=58%20W&sort=name\n",
      "\n",
      "TDP:59\n",
      "\n"
     ]
    },
    {
     "name": "stderr",
     "output_type": "stream",
     "text": [
      " 39%|███▊      | 51/132 [1:40:24<4:05:44, 182.04s/it]"
     ]
    },
    {
     "name": "stdout",
     "output_type": "stream",
     "text": [
      "https://www.techpowerup.com/cpu-specs/?tdp=59%20W&sort=name\n",
      "\n",
      "TDP:60\n",
      "\n"
     ]
    },
    {
     "name": "stderr",
     "output_type": "stream",
     "text": [
      " 39%|███▉      | 52/132 [1:40:24<2:50:04, 127.56s/it]"
     ]
    },
    {
     "name": "stdout",
     "output_type": "stream",
     "text": [
      "https://www.techpowerup.com/cpu-specs/?tdp=60%20W&sort=name\n",
      "\n",
      "TDP:61\n",
      "\n"
     ]
    },
    {
     "name": "stderr",
     "output_type": "stream",
     "text": [
      " 40%|████      | 53/132 [1:40:24<1:57:43, 89.41s/it] "
     ]
    },
    {
     "name": "stdout",
     "output_type": "stream",
     "text": [
      "https://www.techpowerup.com/cpu-specs/?tdp=61%20W&sort=name\n",
      "\n",
      "TDP:62\n",
      "\n"
     ]
    },
    {
     "name": "stderr",
     "output_type": "stream",
     "text": [
      " 41%|████      | 54/132 [1:40:25<1:21:32, 62.73s/it]"
     ]
    },
    {
     "name": "stdout",
     "output_type": "stream",
     "text": [
      "https://www.techpowerup.com/cpu-specs/?tdp=62%20W&sort=name\n",
      "\n",
      "TDP:63\n",
      "\n"
     ]
    },
    {
     "name": "stderr",
     "output_type": "stream",
     "text": [
      " 42%|████▏     | 55/132 [1:40:25<56:30, 44.03s/it]  "
     ]
    },
    {
     "name": "stdout",
     "output_type": "stream",
     "text": [
      "https://www.techpowerup.com/cpu-specs/?tdp=63%20W&sort=name\n",
      "\n",
      "TDP:64\n",
      "\n"
     ]
    },
    {
     "name": "stderr",
     "output_type": "stream",
     "text": [
      " 42%|████▏     | 56/132 [1:40:26<39:11, 30.95s/it]"
     ]
    },
    {
     "name": "stdout",
     "output_type": "stream",
     "text": [
      "https://www.techpowerup.com/cpu-specs/?tdp=64%20W&sort=name\n",
      "\n",
      "TDP:65\n",
      "\n"
     ]
    },
    {
     "name": "stderr",
     "output_type": "stream",
     "text": [
      " 43%|████▎     | 57/132 [1:40:26<27:14, 21.80s/it]"
     ]
    },
    {
     "name": "stdout",
     "output_type": "stream",
     "text": [
      "https://www.techpowerup.com/cpu-specs/?tdp=65%20W&sort=name\n",
      "\n",
      "TDP:66\n",
      "\n"
     ]
    },
    {
     "name": "stderr",
     "output_type": "stream",
     "text": [
      " 44%|████▍     | 58/132 [1:40:27<18:58, 15.38s/it]"
     ]
    },
    {
     "name": "stdout",
     "output_type": "stream",
     "text": [
      "https://www.techpowerup.com/cpu-specs/?tdp=66%20W&sort=name\n",
      "\n",
      "TDP:67\n",
      "\n",
      "https://www.techpowerup.com/cpu-specs/?tdp=67%20W&sort=name\n"
     ]
    },
    {
     "name": "stderr",
     "output_type": "stream",
     "text": [
      " 45%|████▍     | 59/132 [2:00:28<7:31:26, 371.05s/it]"
     ]
    },
    {
     "name": "stdout",
     "output_type": "stream",
     "text": [
      "\n",
      "TDP:68\n",
      "\n"
     ]
    },
    {
     "name": "stderr",
     "output_type": "stream",
     "text": [
      " 45%|████▌     | 60/132 [2:00:28<5:11:49, 259.85s/it]"
     ]
    },
    {
     "name": "stdout",
     "output_type": "stream",
     "text": [
      "https://www.techpowerup.com/cpu-specs/?tdp=68%20W&sort=name\n",
      "\n",
      "TDP:69\n",
      "\n"
     ]
    },
    {
     "name": "stderr",
     "output_type": "stream",
     "text": [
      " 46%|████▌     | 61/132 [2:00:28<3:35:23, 182.02s/it]"
     ]
    },
    {
     "name": "stdout",
     "output_type": "stream",
     "text": [
      "https://www.techpowerup.com/cpu-specs/?tdp=69%20W&sort=name\n",
      "\n",
      "TDP:70\n",
      "\n"
     ]
    },
    {
     "name": "stderr",
     "output_type": "stream",
     "text": [
      " 47%|████▋     | 62/132 [2:00:29<2:28:48, 127.55s/it]"
     ]
    },
    {
     "name": "stdout",
     "output_type": "stream",
     "text": [
      "https://www.techpowerup.com/cpu-specs/?tdp=70%20W&sort=name\n",
      "\n",
      "TDP:72\n",
      "\n"
     ]
    },
    {
     "name": "stderr",
     "output_type": "stream",
     "text": [
      " 48%|████▊     | 63/132 [2:00:29<1:42:49, 89.41s/it] "
     ]
    },
    {
     "name": "stdout",
     "output_type": "stream",
     "text": [
      "https://www.techpowerup.com/cpu-specs/?tdp=72%20W&sort=name\n",
      "\n",
      "TDP:73\n",
      "\n"
     ]
    },
    {
     "name": "stderr",
     "output_type": "stream",
     "text": [
      " 48%|████▊     | 64/132 [2:00:30<1:11:04, 62.72s/it]"
     ]
    },
    {
     "name": "stdout",
     "output_type": "stream",
     "text": [
      "https://www.techpowerup.com/cpu-specs/?tdp=73%20W&sort=name\n",
      "\n",
      "TDP:74\n",
      "\n"
     ]
    },
    {
     "name": "stderr",
     "output_type": "stream",
     "text": [
      " 49%|████▉     | 65/132 [2:00:30<49:09, 44.02s/it]  "
     ]
    },
    {
     "name": "stdout",
     "output_type": "stream",
     "text": [
      "https://www.techpowerup.com/cpu-specs/?tdp=74%20W&sort=name\n",
      "\n",
      "TDP:75\n",
      "\n"
     ]
    },
    {
     "name": "stderr",
     "output_type": "stream",
     "text": [
      " 50%|█████     | 66/132 [2:00:30<34:01, 30.93s/it]"
     ]
    },
    {
     "name": "stdout",
     "output_type": "stream",
     "text": [
      "https://www.techpowerup.com/cpu-specs/?tdp=75%20W&sort=name\n",
      "\n",
      "TDP:76\n",
      "\n"
     ]
    },
    {
     "name": "stderr",
     "output_type": "stream",
     "text": [
      " 51%|█████     | 67/132 [2:00:31<23:35, 21.77s/it]"
     ]
    },
    {
     "name": "stdout",
     "output_type": "stream",
     "text": [
      "https://www.techpowerup.com/cpu-specs/?tdp=76%20W&sort=name\n",
      "\n",
      "TDP:77\n",
      "\n"
     ]
    },
    {
     "name": "stderr",
     "output_type": "stream",
     "text": [
      " 52%|█████▏    | 68/132 [2:00:31<16:22, 15.36s/it]"
     ]
    },
    {
     "name": "stdout",
     "output_type": "stream",
     "text": [
      "https://www.techpowerup.com/cpu-specs/?tdp=77%20W&sort=name\n",
      "\n",
      "TDP:79\n",
      "\n",
      "https://www.techpowerup.com/cpu-specs/?tdp=79%20W&sort=name\n"
     ]
    },
    {
     "name": "stderr",
     "output_type": "stream",
     "text": [
      " 52%|█████▏    | 69/132 [2:20:32<6:29:33, 371.01s/it]"
     ]
    },
    {
     "name": "stdout",
     "output_type": "stream",
     "text": [
      "\n",
      "TDP:80\n",
      "\n"
     ]
    },
    {
     "name": "stderr",
     "output_type": "stream",
     "text": [
      " 53%|█████▎    | 70/132 [2:20:33<4:28:30, 259.84s/it]"
     ]
    },
    {
     "name": "stdout",
     "output_type": "stream",
     "text": [
      "https://www.techpowerup.com/cpu-specs/?tdp=80%20W&sort=name\n",
      "\n",
      "TDP:82\n",
      "\n"
     ]
    },
    {
     "name": "stderr",
     "output_type": "stream",
     "text": [
      " 54%|█████▍    | 71/132 [2:20:33<3:05:03, 182.02s/it]"
     ]
    },
    {
     "name": "stdout",
     "output_type": "stream",
     "text": [
      "https://www.techpowerup.com/cpu-specs/?tdp=82%20W&sort=name\n",
      "\n",
      "TDP:83\n",
      "\n"
     ]
    },
    {
     "name": "stderr",
     "output_type": "stream",
     "text": [
      " 55%|█████▍    | 72/132 [2:20:33<2:07:32, 127.54s/it]"
     ]
    },
    {
     "name": "stdout",
     "output_type": "stream",
     "text": [
      "https://www.techpowerup.com/cpu-specs/?tdp=83%20W&sort=name\n",
      "\n",
      "TDP:84\n",
      "\n"
     ]
    },
    {
     "name": "stderr",
     "output_type": "stream",
     "text": [
      " 55%|█████▌    | 73/132 [2:20:34<1:27:55, 89.41s/it] "
     ]
    },
    {
     "name": "stdout",
     "output_type": "stream",
     "text": [
      "https://www.techpowerup.com/cpu-specs/?tdp=84%20W&sort=name\n",
      "\n",
      "TDP:85\n",
      "\n"
     ]
    },
    {
     "name": "stderr",
     "output_type": "stream",
     "text": [
      " 56%|█████▌    | 74/132 [2:20:34<1:00:38, 62.73s/it]"
     ]
    },
    {
     "name": "stdout",
     "output_type": "stream",
     "text": [
      "https://www.techpowerup.com/cpu-specs/?tdp=85%20W&sort=name\n",
      "\n",
      "TDP:86\n",
      "\n"
     ]
    },
    {
     "name": "stderr",
     "output_type": "stream",
     "text": [
      " 57%|█████▋    | 75/132 [2:20:35<41:49, 44.03s/it]  "
     ]
    },
    {
     "name": "stdout",
     "output_type": "stream",
     "text": [
      "https://www.techpowerup.com/cpu-specs/?tdp=86%20W&sort=name\n",
      "\n",
      "TDP:87\n",
      "\n"
     ]
    },
    {
     "name": "stderr",
     "output_type": "stream",
     "text": [
      " 58%|█████▊    | 76/132 [2:20:35<28:53, 30.95s/it]"
     ]
    },
    {
     "name": "stdout",
     "output_type": "stream",
     "text": [
      "https://www.techpowerup.com/cpu-specs/?tdp=87%20W&sort=name\n",
      "\n",
      "TDP:88\n",
      "\n"
     ]
    },
    {
     "name": "stderr",
     "output_type": "stream",
     "text": [
      " 58%|█████▊    | 77/132 [2:20:36<19:58, 21.79s/it]"
     ]
    },
    {
     "name": "stdout",
     "output_type": "stream",
     "text": [
      "https://www.techpowerup.com/cpu-specs/?tdp=88%20W&sort=name\n",
      "\n",
      "TDP:89\n",
      "\n"
     ]
    },
    {
     "name": "stderr",
     "output_type": "stream",
     "text": [
      " 59%|█████▉    | 78/132 [2:20:36<13:50, 15.39s/it]"
     ]
    },
    {
     "name": "stdout",
     "output_type": "stream",
     "text": [
      "https://www.techpowerup.com/cpu-specs/?tdp=89%20W&sort=name\n",
      "\n",
      "TDP:90\n",
      "\n",
      "https://www.techpowerup.com/cpu-specs/?tdp=90%20W&sort=name\n"
     ]
    },
    {
     "name": "stderr",
     "output_type": "stream",
     "text": [
      " 60%|█████▉    | 79/132 [3:11:00<13:30:48, 917.89s/it]"
     ]
    },
    {
     "name": "stdout",
     "output_type": "stream",
     "text": [
      "\n",
      "TDP:91\n",
      "\n"
     ]
    },
    {
     "name": "stderr",
     "output_type": "stream",
     "text": [
      " 61%|██████    | 80/132 [3:11:00<9:16:57, 642.64s/it] "
     ]
    },
    {
     "name": "stdout",
     "output_type": "stream",
     "text": [
      "https://www.techpowerup.com/cpu-specs/?tdp=91%20W&sort=name\n",
      "\n",
      "TDP:92\n",
      "\n"
     ]
    },
    {
     "name": "stderr",
     "output_type": "stream",
     "text": [
      " 61%|██████▏   | 81/132 [3:11:01<6:22:28, 449.96s/it]"
     ]
    },
    {
     "name": "stdout",
     "output_type": "stream",
     "text": [
      "https://www.techpowerup.com/cpu-specs/?tdp=92%20W&sort=name\n",
      "\n",
      "TDP:95\n",
      "\n"
     ]
    },
    {
     "name": "stderr",
     "output_type": "stream",
     "text": [
      " 62%|██████▏   | 82/132 [3:11:01<4:22:35, 315.11s/it]"
     ]
    },
    {
     "name": "stdout",
     "output_type": "stream",
     "text": [
      "https://www.techpowerup.com/cpu-specs/?tdp=95%20W&sort=name\n",
      "\n",
      "TDP:97\n",
      "\n"
     ]
    },
    {
     "name": "stderr",
     "output_type": "stream",
     "text": [
      " 63%|██████▎   | 83/132 [3:11:01<3:00:13, 220.69s/it]"
     ]
    },
    {
     "name": "stdout",
     "output_type": "stream",
     "text": [
      "https://www.techpowerup.com/cpu-specs/?tdp=97%20W&sort=name\n",
      "\n",
      "TDP:100\n",
      "\n"
     ]
    },
    {
     "name": "stderr",
     "output_type": "stream",
     "text": [
      " 64%|██████▎   | 84/132 [3:11:02<2:03:41, 154.62s/it]"
     ]
    },
    {
     "name": "stdout",
     "output_type": "stream",
     "text": [
      "https://www.techpowerup.com/cpu-specs/?tdp=100%20W&sort=name\n",
      "\n",
      "TDP:103\n",
      "\n"
     ]
    },
    {
     "name": "stderr",
     "output_type": "stream",
     "text": [
      " 64%|██████▍   | 85/132 [3:11:02<1:24:52, 108.35s/it]"
     ]
    },
    {
     "name": "stdout",
     "output_type": "stream",
     "text": [
      "https://www.techpowerup.com/cpu-specs/?tdp=103%20W&sort=name\n",
      "\n",
      "TDP:104\n",
      "\n"
     ]
    },
    {
     "name": "stderr",
     "output_type": "stream",
     "text": [
      " 65%|██████▌   | 86/132 [3:11:03<58:14, 75.96s/it]   "
     ]
    },
    {
     "name": "stdout",
     "output_type": "stream",
     "text": [
      "https://www.techpowerup.com/cpu-specs/?tdp=104%20W&sort=name\n",
      "\n",
      "TDP:105\n",
      "\n"
     ]
    },
    {
     "name": "stderr",
     "output_type": "stream",
     "text": [
      " 66%|██████▌   | 87/132 [3:11:03<39:58, 53.31s/it]"
     ]
    },
    {
     "name": "stdout",
     "output_type": "stream",
     "text": [
      "https://www.techpowerup.com/cpu-specs/?tdp=105%20W&sort=name\n",
      "\n",
      "TDP:110\n",
      "\n",
      "https://www.techpowerup.com/cpu-specs/?tdp=110%20W&sort=name\n"
     ]
    },
    {
     "name": "stderr",
     "output_type": "stream",
     "text": [
      " 67%|██████▋   | 88/132 [3:31:04<4:51:32, 397.57s/it]"
     ]
    },
    {
     "name": "stdout",
     "output_type": "stream",
     "text": [
      "\n",
      "TDP:112\n",
      "\n"
     ]
    },
    {
     "name": "stderr",
     "output_type": "stream",
     "text": [
      " 67%|██████▋   | 89/132 [3:31:04<3:19:31, 278.42s/it]"
     ]
    },
    {
     "name": "stdout",
     "output_type": "stream",
     "text": [
      "https://www.techpowerup.com/cpu-specs/?tdp=112%20W&sort=name\n",
      "\n",
      "TDP:115\n",
      "\n"
     ]
    },
    {
     "name": "stderr",
     "output_type": "stream",
     "text": [
      " 68%|██████▊   | 90/132 [3:31:05<2:16:30, 195.02s/it]"
     ]
    },
    {
     "name": "stdout",
     "output_type": "stream",
     "text": [
      "https://www.techpowerup.com/cpu-specs/?tdp=115%20W&sort=name\n",
      "\n",
      "TDP:120\n",
      "\n"
     ]
    },
    {
     "name": "stderr",
     "output_type": "stream",
     "text": [
      " 69%|██████▉   | 91/132 [3:31:05<1:33:22, 136.65s/it]"
     ]
    },
    {
     "name": "stdout",
     "output_type": "stream",
     "text": [
      "https://www.techpowerup.com/cpu-specs/?tdp=120%20W&sort=name\n",
      "\n",
      "TDP:125\n",
      "\n"
     ]
    },
    {
     "name": "stderr",
     "output_type": "stream",
     "text": [
      " 70%|██████▉   | 92/132 [3:31:06<1:03:51, 95.78s/it] "
     ]
    },
    {
     "name": "stdout",
     "output_type": "stream",
     "text": [
      "https://www.techpowerup.com/cpu-specs/?tdp=125%20W&sort=name\n",
      "\n",
      "TDP:127\n",
      "\n"
     ]
    },
    {
     "name": "stderr",
     "output_type": "stream",
     "text": [
      " 70%|███████   | 93/132 [3:31:06<43:39, 67.17s/it]  "
     ]
    },
    {
     "name": "stdout",
     "output_type": "stream",
     "text": [
      "https://www.techpowerup.com/cpu-specs/?tdp=127%20W&sort=name\n",
      "\n",
      "TDP:129\n",
      "\n"
     ]
    },
    {
     "name": "stderr",
     "output_type": "stream",
     "text": [
      " 71%|███████   | 94/132 [3:31:06<29:51, 47.13s/it]"
     ]
    },
    {
     "name": "stdout",
     "output_type": "stream",
     "text": [
      "https://www.techpowerup.com/cpu-specs/?tdp=129%20W&sort=name\n",
      "\n",
      "TDP:130\n",
      "\n"
     ]
    },
    {
     "name": "stderr",
     "output_type": "stream",
     "text": [
      " 72%|███████▏  | 95/132 [3:31:07<20:25, 33.13s/it]"
     ]
    },
    {
     "name": "stdout",
     "output_type": "stream",
     "text": [
      "https://www.techpowerup.com/cpu-specs/?tdp=130%20W&sort=name\n",
      "\n",
      "TDP:135\n",
      "\n"
     ]
    },
    {
     "name": "stderr",
     "output_type": "stream",
     "text": [
      " 73%|███████▎  | 96/132 [3:31:07<13:59, 23.32s/it]"
     ]
    },
    {
     "name": "stdout",
     "output_type": "stream",
     "text": [
      "https://www.techpowerup.com/cpu-specs/?tdp=135%20W&sort=name\n",
      "\n",
      "TDP:136\n",
      "\n"
     ]
    },
    {
     "name": "stderr",
     "output_type": "stream",
     "text": [
      " 73%|███████▎  | 97/132 [3:31:08<09:35, 16.44s/it]"
     ]
    },
    {
     "name": "stdout",
     "output_type": "stream",
     "text": [
      "https://www.techpowerup.com/cpu-specs/?tdp=136%20W&sort=name\n",
      "\n",
      "TDP:140\n",
      "\n",
      "https://www.techpowerup.com/cpu-specs/?tdp=140%20W&sort=name\n"
     ]
    },
    {
     "name": "stderr",
     "output_type": "stream",
     "text": [
      " 74%|███████▍  | 98/132 [3:51:08<3:30:39, 371.75s/it]"
     ]
    },
    {
     "name": "stdout",
     "output_type": "stream",
     "text": [
      "\n",
      "TDP:145\n",
      "\n"
     ]
    },
    {
     "name": "stderr",
     "output_type": "stream",
     "text": [
      " 75%|███████▌  | 99/132 [3:51:09<2:23:11, 260.34s/it]"
     ]
    },
    {
     "name": "stdout",
     "output_type": "stream",
     "text": [
      "https://www.techpowerup.com/cpu-specs/?tdp=145%20W&sort=name\n",
      "\n",
      "TDP:150\n",
      "\n"
     ]
    },
    {
     "name": "stderr",
     "output_type": "stream",
     "text": [
      " 76%|███████▌  | 100/132 [3:51:09<1:37:15, 182.37s/it]"
     ]
    },
    {
     "name": "stdout",
     "output_type": "stream",
     "text": [
      "https://www.techpowerup.com/cpu-specs/?tdp=150%20W&sort=name\n",
      "\n",
      "TDP:155\n",
      "\n"
     ]
    },
    {
     "name": "stderr",
     "output_type": "stream",
     "text": [
      " 77%|███████▋  | 101/132 [3:51:10<1:06:01, 127.78s/it]"
     ]
    },
    {
     "name": "stdout",
     "output_type": "stream",
     "text": [
      "https://www.techpowerup.com/cpu-specs/?tdp=155%20W&sort=name\n",
      "\n",
      "TDP:160\n",
      "\n"
     ]
    },
    {
     "name": "stderr",
     "output_type": "stream",
     "text": [
      " 77%|███████▋  | 102/132 [3:51:10<44:47, 89.57s/it]   "
     ]
    },
    {
     "name": "stdout",
     "output_type": "stream",
     "text": [
      "https://www.techpowerup.com/cpu-specs/?tdp=160%20W&sort=name\n",
      "\n",
      "TDP:165\n",
      "\n"
     ]
    },
    {
     "name": "stderr",
     "output_type": "stream",
     "text": [
      " 78%|███████▊  | 103/132 [3:51:11<30:22, 62.83s/it]"
     ]
    },
    {
     "name": "stdout",
     "output_type": "stream",
     "text": [
      "https://www.techpowerup.com/cpu-specs/?tdp=165%20W&sort=name\n",
      "\n",
      "TDP:170\n",
      "\n"
     ]
    },
    {
     "name": "stderr",
     "output_type": "stream",
     "text": [
      " 79%|███████▉  | 104/132 [3:51:11<20:34, 44.11s/it]"
     ]
    },
    {
     "name": "stdout",
     "output_type": "stream",
     "text": [
      "https://www.techpowerup.com/cpu-specs/?tdp=170%20W&sort=name\n",
      "\n",
      "TDP:175\n",
      "\n"
     ]
    },
    {
     "name": "stderr",
     "output_type": "stream",
     "text": [
      " 80%|███████▉  | 105/132 [3:51:11<13:56, 30.99s/it]"
     ]
    },
    {
     "name": "stdout",
     "output_type": "stream",
     "text": [
      "https://www.techpowerup.com/cpu-specs/?tdp=175%20W&sort=name\n",
      "\n",
      "TDP:180\n",
      "\n"
     ]
    },
    {
     "name": "stderr",
     "output_type": "stream",
     "text": [
      " 80%|████████  | 106/132 [3:51:12<09:27, 21.82s/it]"
     ]
    },
    {
     "name": "stdout",
     "output_type": "stream",
     "text": [
      "https://www.techpowerup.com/cpu-specs/?tdp=180%20W&sort=name\n",
      "\n",
      "TDP:185\n",
      "\n"
     ]
    },
    {
     "name": "stderr",
     "output_type": "stream",
     "text": [
      " 81%|████████  | 107/132 [3:51:12<06:25, 15.40s/it]"
     ]
    },
    {
     "name": "stdout",
     "output_type": "stream",
     "text": [
      "https://www.techpowerup.com/cpu-specs/?tdp=185%20W&sort=name\n",
      "\n",
      "TDP:190\n",
      "\n",
      "https://www.techpowerup.com/cpu-specs/?tdp=190%20W&sort=name\n"
     ]
    },
    {
     "name": "stderr",
     "output_type": "stream",
     "text": [
      " 82%|████████▏ | 108/132 [4:11:13<2:28:26, 371.10s/it]"
     ]
    },
    {
     "name": "stdout",
     "output_type": "stream",
     "text": [
      "\n",
      "TDP:195\n",
      "\n"
     ]
    },
    {
     "name": "stderr",
     "output_type": "stream",
     "text": [
      " 83%|████████▎ | 109/132 [4:11:14<1:39:37, 259.89s/it]"
     ]
    },
    {
     "name": "stdout",
     "output_type": "stream",
     "text": [
      "https://www.techpowerup.com/cpu-specs/?tdp=195%20W&sort=name\n",
      "\n",
      "TDP:200\n",
      "\n"
     ]
    },
    {
     "name": "stderr",
     "output_type": "stream",
     "text": [
      " 83%|████████▎ | 110/132 [4:11:14<1:06:45, 182.05s/it]"
     ]
    },
    {
     "name": "stdout",
     "output_type": "stream",
     "text": [
      "https://www.techpowerup.com/cpu-specs/?tdp=200%20W&sort=name\n",
      "\n",
      "TDP:205\n",
      "\n"
     ]
    },
    {
     "name": "stderr",
     "output_type": "stream",
     "text": [
      " 84%|████████▍ | 111/132 [4:11:14<44:39, 127.57s/it]  "
     ]
    },
    {
     "name": "stdout",
     "output_type": "stream",
     "text": [
      "https://www.techpowerup.com/cpu-specs/?tdp=205%20W&sort=name\n",
      "\n",
      "TDP:210\n",
      "\n"
     ]
    },
    {
     "name": "stderr",
     "output_type": "stream",
     "text": [
      " 85%|████████▍ | 112/132 [4:11:15<29:48, 89.42s/it] "
     ]
    },
    {
     "name": "stdout",
     "output_type": "stream",
     "text": [
      "https://www.techpowerup.com/cpu-specs/?tdp=210%20W&sort=name\n",
      "\n",
      "TDP:215\n",
      "\n"
     ]
    },
    {
     "name": "stderr",
     "output_type": "stream",
     "text": [
      " 86%|████████▌ | 113/132 [4:11:15<19:51, 62.71s/it]"
     ]
    },
    {
     "name": "stdout",
     "output_type": "stream",
     "text": [
      "https://www.techpowerup.com/cpu-specs/?tdp=215%20W&sort=name\n",
      "\n",
      "TDP:220\n",
      "\n"
     ]
    },
    {
     "name": "stderr",
     "output_type": "stream",
     "text": [
      " 86%|████████▋ | 114/132 [4:11:16<13:12, 44.02s/it]"
     ]
    },
    {
     "name": "stdout",
     "output_type": "stream",
     "text": [
      "https://www.techpowerup.com/cpu-specs/?tdp=220%20W&sort=name\n",
      "\n",
      "TDP:225\n",
      "\n"
     ]
    },
    {
     "name": "stderr",
     "output_type": "stream",
     "text": [
      " 87%|████████▋ | 115/132 [4:11:16<08:46, 30.95s/it]"
     ]
    },
    {
     "name": "stdout",
     "output_type": "stream",
     "text": [
      "https://www.techpowerup.com/cpu-specs/?tdp=225%20W&sort=name\n",
      "\n",
      "TDP:230\n",
      "\n"
     ]
    },
    {
     "name": "stderr",
     "output_type": "stream",
     "text": [
      " 88%|████████▊ | 116/132 [4:11:17<05:48, 21.78s/it]"
     ]
    },
    {
     "name": "stdout",
     "output_type": "stream",
     "text": [
      "https://www.techpowerup.com/cpu-specs/?tdp=230%20W&sort=name\n",
      "\n",
      "TDP:235\n",
      "\n"
     ]
    },
    {
     "name": "stderr",
     "output_type": "stream",
     "text": [
      " 89%|████████▊ | 117/132 [4:11:17<03:50, 15.37s/it]"
     ]
    },
    {
     "name": "stdout",
     "output_type": "stream",
     "text": [
      "https://www.techpowerup.com/cpu-specs/?tdp=235%20W&sort=name\n",
      "\n",
      "TDP:240\n",
      "\n",
      "https://www.techpowerup.com/cpu-specs/?tdp=240%20W&sort=name\n"
     ]
    },
    {
     "name": "stderr",
     "output_type": "stream",
     "text": [
      " 89%|████████▉ | 118/132 [4:31:18<1:26:34, 371.00s/it]"
     ]
    },
    {
     "name": "stdout",
     "output_type": "stream",
     "text": [
      "\n",
      "TDP:245\n",
      "\n"
     ]
    },
    {
     "name": "stderr",
     "output_type": "stream",
     "text": [
      " 90%|█████████ | 119/132 [4:31:18<56:17, 259.82s/it]  "
     ]
    },
    {
     "name": "stdout",
     "output_type": "stream",
     "text": [
      "https://www.techpowerup.com/cpu-specs/?tdp=245%20W&sort=name\n",
      "\n",
      "TDP:250\n",
      "\n"
     ]
    },
    {
     "name": "stderr",
     "output_type": "stream",
     "text": [
      " 91%|█████████ | 120/132 [4:31:19<36:24, 182.01s/it]"
     ]
    },
    {
     "name": "stdout",
     "output_type": "stream",
     "text": [
      "https://www.techpowerup.com/cpu-specs/?tdp=250%20W&sort=name\n",
      "\n",
      "TDP:255\n",
      "\n"
     ]
    },
    {
     "name": "stderr",
     "output_type": "stream",
     "text": [
      " 92%|█████████▏| 121/132 [4:31:19<23:22, 127.53s/it]"
     ]
    },
    {
     "name": "stdout",
     "output_type": "stream",
     "text": [
      "https://www.techpowerup.com/cpu-specs/?tdp=255%20W&sort=name\n",
      "\n",
      "TDP:260\n",
      "\n"
     ]
    },
    {
     "name": "stderr",
     "output_type": "stream",
     "text": [
      " 92%|█████████▏| 122/132 [4:31:19<14:53, 89.39s/it] "
     ]
    },
    {
     "name": "stdout",
     "output_type": "stream",
     "text": [
      "https://www.techpowerup.com/cpu-specs/?tdp=260%20W&sort=name\n",
      "\n",
      "TDP:265\n",
      "\n"
     ]
    },
    {
     "name": "stderr",
     "output_type": "stream",
     "text": [
      " 93%|█████████▎| 123/132 [4:31:20<09:24, 62.70s/it]"
     ]
    },
    {
     "name": "stdout",
     "output_type": "stream",
     "text": [
      "https://www.techpowerup.com/cpu-specs/?tdp=265%20W&sort=name\n",
      "\n",
      "TDP:270\n",
      "\n"
     ]
    },
    {
     "name": "stderr",
     "output_type": "stream",
     "text": [
      " 94%|█████████▍| 124/132 [4:31:20<05:52, 44.02s/it]"
     ]
    },
    {
     "name": "stdout",
     "output_type": "stream",
     "text": [
      "https://www.techpowerup.com/cpu-specs/?tdp=270%20W&sort=name\n",
      "\n",
      "TDP:280\n",
      "\n"
     ]
    },
    {
     "name": "stderr",
     "output_type": "stream",
     "text": [
      " 95%|█████████▍| 125/132 [4:31:21<03:36, 30.95s/it]"
     ]
    },
    {
     "name": "stdout",
     "output_type": "stream",
     "text": [
      "https://www.techpowerup.com/cpu-specs/?tdp=280%20W&sort=name\n",
      "\n",
      "TDP:290\n",
      "\n"
     ]
    },
    {
     "name": "stderr",
     "output_type": "stream",
     "text": [
      " 95%|█████████▌| 126/132 [4:31:21<02:10, 21.78s/it]"
     ]
    },
    {
     "name": "stdout",
     "output_type": "stream",
     "text": [
      "https://www.techpowerup.com/cpu-specs/?tdp=290%20W&sort=name\n",
      "\n",
      "TDP:300\n",
      "\n"
     ]
    },
    {
     "name": "stderr",
     "output_type": "stream",
     "text": [
      " 96%|█████████▌| 127/132 [4:31:22<01:16, 15.38s/it]"
     ]
    },
    {
     "name": "stdout",
     "output_type": "stream",
     "text": [
      "https://www.techpowerup.com/cpu-specs/?tdp=300%20W&sort=name\n",
      "\n",
      "TDP:320\n",
      "\n",
      "https://www.techpowerup.com/cpu-specs/?tdp=320%20W&sort=name\n"
     ]
    },
    {
     "name": "stderr",
     "output_type": "stream",
     "text": [
      " 97%|█████████▋| 128/132 [4:51:22<24:43, 371.00s/it]"
     ]
    },
    {
     "name": "stdout",
     "output_type": "stream",
     "text": [
      "\n",
      "TDP:330\n",
      "\n"
     ]
    },
    {
     "name": "stderr",
     "output_type": "stream",
     "text": [
      " 98%|█████████▊| 129/132 [4:51:23<12:59, 259.82s/it]"
     ]
    },
    {
     "name": "stdout",
     "output_type": "stream",
     "text": [
      "https://www.techpowerup.com/cpu-specs/?tdp=330%20W&sort=name\n",
      "\n",
      "TDP:350\n",
      "\n"
     ]
    },
    {
     "name": "stderr",
     "output_type": "stream",
     "text": [
      " 98%|█████████▊| 130/132 [4:51:23<06:04, 182.01s/it]"
     ]
    },
    {
     "name": "stdout",
     "output_type": "stream",
     "text": [
      "https://www.techpowerup.com/cpu-specs/?tdp=350%20W&sort=name\n",
      "\n",
      "TDP:360\n",
      "\n"
     ]
    },
    {
     "name": "stderr",
     "output_type": "stream",
     "text": [
      " 99%|█████████▉| 131/132 [4:51:24<02:07, 127.53s/it]"
     ]
    },
    {
     "name": "stdout",
     "output_type": "stream",
     "text": [
      "https://www.techpowerup.com/cpu-specs/?tdp=360%20W&sort=name\n",
      "\n",
      "TDP:380\n",
      "\n"
     ]
    },
    {
     "name": "stderr",
     "output_type": "stream",
     "text": [
      "100%|██████████| 132/132 [4:51:24<00:00, 132.46s/it]\n"
     ]
    },
    {
     "name": "stdout",
     "output_type": "stream",
     "text": [
      "https://www.techpowerup.com/cpu-specs/?tdp=380%20W&sort=name\n"
     ]
    },
    {
     "name": "stderr",
     "output_type": "stream",
     "text": [
      "100%|██████████| 132/132 [00:02<00:00, 46.39it/s]\n"
     ]
    }
   ],
   "source": [
    "from webscraper import scrape_all\n",
    "scrape_all(cpu = True)"
   ]
  },
  {
   "cell_type": "code",
   "execution_count": null,
   "metadata": {},
   "outputs": [],
   "source": []
  }
 ],
 "metadata": {
  "kernelspec": {
   "display_name": "ighproject",
   "language": "python",
   "name": "python3"
  },
  "language_info": {
   "codemirror_mode": {
    "name": "ipython",
    "version": 3
   },
   "file_extension": ".py",
   "mimetype": "text/x-python",
   "name": "python",
   "nbconvert_exporter": "python",
   "pygments_lexer": "ipython3",
   "version": "3.8.16"
  },
  "orig_nbformat": 4
 },
 "nbformat": 4,
 "nbformat_minor": 2
}
