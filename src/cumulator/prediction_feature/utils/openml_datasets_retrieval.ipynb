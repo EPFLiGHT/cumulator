{
 "cells": [
  {
   "cell_type": "code",
   "execution_count": 1,
   "metadata": {
    "collapsed": true
   },
   "outputs": [],
   "source": [
    "from openml.datasets import list_datasets, get_datasets\n",
    "import pandas as pd\n",
    "from sklearn.model_selection import train_test_split\n",
    "from supervised.automl import AutoML\n",
    "import os\n",
    "from prediction_feature.mljar import add_dataset"
   ]
  },
  {
   "cell_type": "code",
   "execution_count": 2,
   "outputs": [
    {
     "data": {
      "text/plain": "         did                                      name  version uploader  \\\n2          2                                    anneal        1        1   \n3          3                                  kr-vs-kp        1        1   \n4          4                                     labor        1        1   \n5          5                                arrhythmia        1        1   \n9          9                                     autos        1        1   \n...      ...                                       ...      ...      ...   \n43035  43035  dgf_96f4164d-956d-4c1c-b161-68724eb0ccdc       27    26214   \n43051  43051                         art_daily_nojump4        1    26700   \n43097  43097                           students_scores        1    28105   \n43098  43098                           students_scores        2    28105   \n43100  43100                             Weather-11.10        1      608   \n\n       status format  MajorityClassSize  MaxNominalAttDistinctValues  \\\n2      active   ARFF              684.0                          7.0   \n3      active   ARFF             1669.0                          3.0   \n4      active   ARFF               37.0                          3.0   \n5      active   ARFF              245.0                         13.0   \n9      active   ARFF               67.0                         22.0   \n...       ...    ...                ...                          ...   \n43035  active   arff              398.0                          NaN   \n43051  active   arff             3901.0                          NaN   \n43097  active   ARFF              518.0                          NaN   \n43098  active   ARFF              518.0                          NaN   \n43100  active   arff                9.0                          NaN   \n\n       MinorityClassSize  NumberOfClasses  NumberOfFeatures  \\\n2                    8.0              5.0              39.0   \n3                 1527.0              2.0              37.0   \n4                   20.0              2.0              17.0   \n5                    2.0             13.0             280.0   \n9                    3.0              6.0              26.0   \n...                  ...              ...               ...   \n43035               10.0              5.0              57.0   \n43051              131.0              2.0               3.0   \n43097              482.0              2.0               8.0   \n43098              482.0              2.0               8.0   \n43100                5.0              2.0               5.0   \n\n       NumberOfInstances  NumberOfInstancesWithMissingValues  \\\n2                  898.0                               898.0   \n3                 3196.0                                 0.0   \n4                   57.0                                56.0   \n5                  452.0                               384.0   \n9                  205.0                                46.0   \n...                  ...                                 ...   \n43035              699.0                               699.0   \n43051             4032.0                                 0.0   \n43097             1000.0                                 0.0   \n43098             1000.0                                 0.0   \n43100               14.0                                 0.0   \n\n       NumberOfMissingValues  NumberOfNumericFeatures  \\\n2                    22175.0                      6.0   \n3                        0.0                      0.0   \n4                      326.0                      8.0   \n5                      408.0                    206.0   \n9                       59.0                     15.0   \n...                      ...                      ...   \n43035                 7889.0                     12.0   \n43051                    0.0                      1.0   \n43097                    0.0                      3.0   \n43098                    0.0                      3.0   \n43100                    0.0                      2.0   \n\n       NumberOfSymbolicFeatures  \n2                          33.0  \n3                          37.0  \n4                           9.0  \n5                          74.0  \n9                          11.0  \n...                         ...  \n43035                      45.0  \n43051                       1.0  \n43097                       0.0  \n43098                       0.0  \n43100                       3.0  \n\n[933 rows x 16 columns]",
      "text/html": "<div>\n<style scoped>\n    .dataframe tbody tr th:only-of-type {\n        vertical-align: middle;\n    }\n\n    .dataframe tbody tr th {\n        vertical-align: top;\n    }\n\n    .dataframe thead th {\n        text-align: right;\n    }\n</style>\n<table border=\"1\" class=\"dataframe\">\n  <thead>\n    <tr style=\"text-align: right;\">\n      <th></th>\n      <th>did</th>\n      <th>name</th>\n      <th>version</th>\n      <th>uploader</th>\n      <th>status</th>\n      <th>format</th>\n      <th>MajorityClassSize</th>\n      <th>MaxNominalAttDistinctValues</th>\n      <th>MinorityClassSize</th>\n      <th>NumberOfClasses</th>\n      <th>NumberOfFeatures</th>\n      <th>NumberOfInstances</th>\n      <th>NumberOfInstancesWithMissingValues</th>\n      <th>NumberOfMissingValues</th>\n      <th>NumberOfNumericFeatures</th>\n      <th>NumberOfSymbolicFeatures</th>\n    </tr>\n  </thead>\n  <tbody>\n    <tr>\n      <th>2</th>\n      <td>2</td>\n      <td>anneal</td>\n      <td>1</td>\n      <td>1</td>\n      <td>active</td>\n      <td>ARFF</td>\n      <td>684.0</td>\n      <td>7.0</td>\n      <td>8.0</td>\n      <td>5.0</td>\n      <td>39.0</td>\n      <td>898.0</td>\n      <td>898.0</td>\n      <td>22175.0</td>\n      <td>6.0</td>\n      <td>33.0</td>\n    </tr>\n    <tr>\n      <th>3</th>\n      <td>3</td>\n      <td>kr-vs-kp</td>\n      <td>1</td>\n      <td>1</td>\n      <td>active</td>\n      <td>ARFF</td>\n      <td>1669.0</td>\n      <td>3.0</td>\n      <td>1527.0</td>\n      <td>2.0</td>\n      <td>37.0</td>\n      <td>3196.0</td>\n      <td>0.0</td>\n      <td>0.0</td>\n      <td>0.0</td>\n      <td>37.0</td>\n    </tr>\n    <tr>\n      <th>4</th>\n      <td>4</td>\n      <td>labor</td>\n      <td>1</td>\n      <td>1</td>\n      <td>active</td>\n      <td>ARFF</td>\n      <td>37.0</td>\n      <td>3.0</td>\n      <td>20.0</td>\n      <td>2.0</td>\n      <td>17.0</td>\n      <td>57.0</td>\n      <td>56.0</td>\n      <td>326.0</td>\n      <td>8.0</td>\n      <td>9.0</td>\n    </tr>\n    <tr>\n      <th>5</th>\n      <td>5</td>\n      <td>arrhythmia</td>\n      <td>1</td>\n      <td>1</td>\n      <td>active</td>\n      <td>ARFF</td>\n      <td>245.0</td>\n      <td>13.0</td>\n      <td>2.0</td>\n      <td>13.0</td>\n      <td>280.0</td>\n      <td>452.0</td>\n      <td>384.0</td>\n      <td>408.0</td>\n      <td>206.0</td>\n      <td>74.0</td>\n    </tr>\n    <tr>\n      <th>9</th>\n      <td>9</td>\n      <td>autos</td>\n      <td>1</td>\n      <td>1</td>\n      <td>active</td>\n      <td>ARFF</td>\n      <td>67.0</td>\n      <td>22.0</td>\n      <td>3.0</td>\n      <td>6.0</td>\n      <td>26.0</td>\n      <td>205.0</td>\n      <td>46.0</td>\n      <td>59.0</td>\n      <td>15.0</td>\n      <td>11.0</td>\n    </tr>\n    <tr>\n      <th>...</th>\n      <td>...</td>\n      <td>...</td>\n      <td>...</td>\n      <td>...</td>\n      <td>...</td>\n      <td>...</td>\n      <td>...</td>\n      <td>...</td>\n      <td>...</td>\n      <td>...</td>\n      <td>...</td>\n      <td>...</td>\n      <td>...</td>\n      <td>...</td>\n      <td>...</td>\n      <td>...</td>\n    </tr>\n    <tr>\n      <th>43035</th>\n      <td>43035</td>\n      <td>dgf_96f4164d-956d-4c1c-b161-68724eb0ccdc</td>\n      <td>27</td>\n      <td>26214</td>\n      <td>active</td>\n      <td>arff</td>\n      <td>398.0</td>\n      <td>NaN</td>\n      <td>10.0</td>\n      <td>5.0</td>\n      <td>57.0</td>\n      <td>699.0</td>\n      <td>699.0</td>\n      <td>7889.0</td>\n      <td>12.0</td>\n      <td>45.0</td>\n    </tr>\n    <tr>\n      <th>43051</th>\n      <td>43051</td>\n      <td>art_daily_nojump4</td>\n      <td>1</td>\n      <td>26700</td>\n      <td>active</td>\n      <td>arff</td>\n      <td>3901.0</td>\n      <td>NaN</td>\n      <td>131.0</td>\n      <td>2.0</td>\n      <td>3.0</td>\n      <td>4032.0</td>\n      <td>0.0</td>\n      <td>0.0</td>\n      <td>1.0</td>\n      <td>1.0</td>\n    </tr>\n    <tr>\n      <th>43097</th>\n      <td>43097</td>\n      <td>students_scores</td>\n      <td>1</td>\n      <td>28105</td>\n      <td>active</td>\n      <td>ARFF</td>\n      <td>518.0</td>\n      <td>NaN</td>\n      <td>482.0</td>\n      <td>2.0</td>\n      <td>8.0</td>\n      <td>1000.0</td>\n      <td>0.0</td>\n      <td>0.0</td>\n      <td>3.0</td>\n      <td>0.0</td>\n    </tr>\n    <tr>\n      <th>43098</th>\n      <td>43098</td>\n      <td>students_scores</td>\n      <td>2</td>\n      <td>28105</td>\n      <td>active</td>\n      <td>ARFF</td>\n      <td>518.0</td>\n      <td>NaN</td>\n      <td>482.0</td>\n      <td>2.0</td>\n      <td>8.0</td>\n      <td>1000.0</td>\n      <td>0.0</td>\n      <td>0.0</td>\n      <td>3.0</td>\n      <td>0.0</td>\n    </tr>\n    <tr>\n      <th>43100</th>\n      <td>43100</td>\n      <td>Weather-11.10</td>\n      <td>1</td>\n      <td>608</td>\n      <td>active</td>\n      <td>arff</td>\n      <td>9.0</td>\n      <td>NaN</td>\n      <td>5.0</td>\n      <td>2.0</td>\n      <td>5.0</td>\n      <td>14.0</td>\n      <td>0.0</td>\n      <td>0.0</td>\n      <td>2.0</td>\n      <td>3.0</td>\n    </tr>\n  </tbody>\n</table>\n<p>933 rows × 16 columns</p>\n</div>"
     },
     "execution_count": 2,
     "metadata": {},
     "output_type": "execute_result"
    }
   ],
   "source": [
    "dataset_dataframe = list_datasets(output_format=\"dataframe\", number_classes='2..20').query('NumberOfInstances < 100000 & NumberOfFeatures < 1000')\n",
    "dataset_dataframe"
   ],
   "metadata": {
    "collapsed": false,
    "pycharm": {
     "name": "#%%\n"
    }
   }
  },
  {
   "cell_type": "code",
   "execution_count": 3,
   "outputs": [],
   "source": [
    "dataset_ids = dataset_dataframe['did']"
   ],
   "metadata": {
    "collapsed": false,
    "pycharm": {
     "name": "#%%\n"
    }
   }
  },
  {
   "cell_type": "code",
   "execution_count": 4,
   "outputs": [],
   "source": [
    "dataset_dataframe_list = get_datasets(dataset_ids=dataset_ids)"
   ],
   "metadata": {
    "collapsed": false,
    "pycharm": {
     "name": "#%%\n"
    }
   }
  },
  {
   "cell_type": "code",
   "execution_count": 5,
   "outputs": [
    {
     "name": "stdout",
     "output_type": "stream",
     "text": [
      "       age menopause tumor-size inv-nodes node-caps deg-malig breast  \\\n",
      "0    40-49   premeno      15-19       0-2       yes         3  right   \n",
      "1    50-59      ge40      15-19       0-2        no         1  right   \n",
      "2    50-59      ge40      35-39       0-2        no         2   left   \n",
      "3    40-49   premeno      35-39       0-2       yes         3  right   \n",
      "4    40-49   premeno      30-34       3-5       yes         2   left   \n",
      "..     ...       ...        ...       ...       ...       ...    ...   \n",
      "281  50-59      ge40      30-34       6-8       yes         2   left   \n",
      "282  50-59   premeno      25-29       3-5       yes         2   left   \n",
      "283  30-39   premeno      30-34       6-8       yes         2  right   \n",
      "284  50-59   premeno      15-19       0-2        no         2  right   \n",
      "285  50-59      ge40      40-44       0-2        no         3   left   \n",
      "\n",
      "    breast-quad irradiat  \n",
      "0       left_up       no  \n",
      "1       central       no  \n",
      "2      left_low       no  \n",
      "3      left_low      yes  \n",
      "4      right_up       no  \n",
      "..          ...      ...  \n",
      "281    left_low       no  \n",
      "282    left_low      yes  \n",
      "283    right_up       no  \n",
      "284    left_low       no  \n",
      "285    right_up       no  \n",
      "\n",
      "[286 rows x 9 columns]\n",
      "y: \n",
      "0         recurrence-events\n",
      "1      no-recurrence-events\n",
      "2         recurrence-events\n",
      "3      no-recurrence-events\n",
      "4         recurrence-events\n",
      "               ...         \n",
      "281    no-recurrence-events\n",
      "282    no-recurrence-events\n",
      "283    no-recurrence-events\n",
      "284    no-recurrence-events\n",
      "285    no-recurrence-events\n",
      "Name: Class, Length: 286, dtype: category\n",
      "Categories (2, object): ['no-recurrence-events' < 'recurrence-events']\n",
      "\n",
      "\n",
      "\n",
      "\n",
      "\n",
      "13\n"
     ]
    },
    {
     "data": {
      "text/plain": "MajorityClassSize                     201.0\nMaxNominalAttDistinctValues            11.0\nMinorityClassSize                      85.0\nNumberOfClasses                         2.0\nNumberOfFeatures                       10.0\nNumberOfInstances                     286.0\nNumberOfInstancesWithMissingValues      9.0\nNumberOfMissingValues                   9.0\nNumberOfNumericFeatures                 0.0\nNumberOfSymbolicFeatures               10.0\nName: 13, dtype: object"
     },
     "execution_count": 5,
     "metadata": {},
     "output_type": "execute_result"
    }
   ],
   "source": [
    "dataset = dataset_dataframe_list[8]\n",
    "\n",
    "X, y, _, _ = dataset.get_data(\n",
    "            target=dataset.default_target_attribute)\n",
    "\n",
    "print(X)\n",
    "print('y: ')\n",
    "print(y)\n",
    "\n",
    "\n",
    "print('\\n\\n\\n\\n')\n",
    "\n",
    "dataset_id = dataset.dataset_id\n",
    "print(dataset_id)\n",
    "\n",
    "dataset_dataframe.loc[dataset_id, dataset_dataframe.columns[6:]]"
   ],
   "metadata": {
    "collapsed": false,
    "pycharm": {
     "name": "#%%\n"
    }
   }
  },
  {
   "cell_type": "code",
   "execution_count": 8,
   "outputs": [
    {
     "name": "stdout",
     "output_type": "stream",
     "text": [
      "AutoML directory: /home/giovanni/Desktop/ML/CS433-2021-ecoML/prediction_feature/results/2\n",
      "The task is multiclass_classification with evaluation metric f1\n",
      "AutoML will use algorithms: ['Linear', 'Random Forest', 'Decision Tree', 'Neural Network']\n",
      "AutoML will ensemble available models\n",
      "AutoML steps: ['simple_algorithms', 'default_algorithms', 'ensemble']\n",
      "* Step simple_algorithms will try to check up to 2 models\n",
      "1_DecisionTree f1 0.860465 trained in 8.33 seconds\n",
      "2_Linear f1 0.866279 trained in 0.5 seconds\n",
      "* Step default_algorithms will try to check up to 2 models\n",
      "3_Default_NeuralNetwork f1 0.889535 trained in 0.8 seconds\n",
      "4_Default_RandomForest f1 0.848837 trained in 1.67 seconds\n",
      "* Step ensemble will try to check up to 1 model\n",
      "Ensemble f1 0.906977 trained in 0.17 seconds\n",
      "AutoML fit time: 15.73 seconds\n",
      "AutoML best model: Ensemble\n",
      "Dataset 2 successfully added!\n",
      "AutoML directory: /home/giovanni/Desktop/ML/CS433-2021-ecoML/prediction_feature/results/3\n",
      "The task is binary_classification with evaluation metric f1\n",
      "AutoML will use algorithms: ['Linear', 'Random Forest', 'Decision Tree', 'Neural Network']\n",
      "AutoML will ensemble available models\n",
      "AutoML steps: ['simple_algorithms', 'default_algorithms', 'ensemble']\n",
      "* Step simple_algorithms will try to check up to 2 models\n",
      "1_DecisionTree f1 0.914894 trained in 1.69 seconds\n",
      "2_Linear f1 0.970779 trained in 1.18 seconds\n",
      "* Step default_algorithms will try to check up to 2 models\n",
      "3_Default_NeuralNetwork f1 0.980645 trained in 1.49 seconds\n",
      "4_Default_RandomForest f1 0.955556 trained in 1.31 seconds\n",
      "* Step ensemble will try to check up to 1 model\n",
      "Ensemble f1 0.99026 trained in 0.57 seconds\n",
      "AutoML fit time: 11.21 seconds\n",
      "AutoML best model: Ensemble\n",
      "Dataset 3 successfully added!\n",
      "AutoML directory: /home/giovanni/Desktop/ML/CS433-2021-ecoML/prediction_feature/results/4\n",
      "The task is binary_classification with evaluation metric f1\n",
      "AutoML will use algorithms: ['Linear', 'Random Forest', 'Decision Tree', 'Neural Network']\n",
      "AutoML will ensemble available models\n",
      "AutoML steps: ['simple_algorithms', 'default_algorithms', 'ensemble']\n",
      "* Step simple_algorithms will try to check up to 2 models\n",
      "1_DecisionTree f1 1.0 trained in 1.72 seconds\n",
      "2_Linear f1 1.0 trained in 0.72 seconds\n",
      "* Step default_algorithms will try to check up to 2 models\n",
      "3_Default_NeuralNetwork f1 1.0 trained in 0.78 seconds\n",
      "4_Default_RandomForest f1 0.736842 trained in 1.08 seconds\n",
      "* Step ensemble will try to check up to 1 model\n",
      "Ensemble f1 1.0 trained in 0.21 seconds\n",
      "AutoML fit time: 9.65 seconds\n",
      "AutoML best model: 1_DecisionTree\n",
      "Dataset 4 successfully added!\n",
      "AutoML directory: /home/giovanni/Desktop/ML/CS433-2021-ecoML/prediction_feature/results/5\n",
      "The task is multiclass_classification with evaluation metric f1\n",
      "AutoML will use algorithms: ['Linear', 'Random Forest', 'Decision Tree', 'Neural Network']\n",
      "AutoML will ensemble available models\n",
      "AutoML steps: ['simple_algorithms', 'default_algorithms', 'ensemble']\n",
      "* Step simple_algorithms will try to check up to 2 models\n",
      "1_DecisionTree f1 0.565217 trained in 2.03 seconds\n",
      "2_Linear f1 0.847826 trained in 2.39 seconds\n",
      "* Step default_algorithms will try to check up to 2 models\n",
      "3_Default_NeuralNetwork f1 0.804348 trained in 3.05 seconds\n",
      "4_Default_RandomForest f1 0.73913 trained in 4.95 seconds\n",
      "* Step ensemble will try to check up to 1 model\n",
      "Ensemble f1 0.891304 trained in 0.28 seconds\n",
      "AutoML fit time: 21.18 seconds\n",
      "AutoML best model: Ensemble\n",
      "Dataset 5 successfully added!\n",
      "AutoML directory: /home/giovanni/Desktop/ML/CS433-2021-ecoML/prediction_feature/results/9\n",
      "The task is multiclass_classification with evaluation metric f1\n",
      "AutoML will use algorithms: ['Linear', 'Random Forest', 'Decision Tree', 'Neural Network']\n",
      "AutoML will ensemble available models\n",
      "AutoML steps: ['simple_algorithms', 'default_algorithms', 'ensemble']\n",
      "* Step simple_algorithms will try to check up to 2 models\n",
      "1_DecisionTree f1 0.522727 trained in 2.66 seconds\n",
      "2_Linear f1 0.659091 trained in 0.98 seconds\n",
      "* Step default_algorithms will try to check up to 2 models\n",
      "3_Default_NeuralNetwork f1 0.659091 trained in 1.02 seconds\n",
      "4_Default_RandomForest f1 0.636364 trained in 1.42 seconds\n",
      "* Step ensemble will try to check up to 1 model\n",
      "Ensemble f1 0.681818 trained in 0.18 seconds\n",
      "AutoML fit time: 10.64 seconds\n",
      "AutoML best model: Ensemble\n",
      "Dataset 9 successfully added!\n"
     ]
    }
   ],
   "source": [
    "for i in range(len(dataset_dataframe_list[:5])):\n",
    "    add_dataset(dataset_dataframe_list[i], dataset_dataframe)"
   ],
   "metadata": {
    "collapsed": false,
    "pycharm": {
     "name": "#%%\n"
    }
   }
  },
  {
   "cell_type": "code",
   "execution_count": 6,
   "outputs": [],
   "source": [],
   "metadata": {
    "collapsed": false,
    "pycharm": {
     "name": "#%%\n"
    }
   }
  },
  {
   "cell_type": "code",
   "execution_count": 6,
   "outputs": [],
   "source": [],
   "metadata": {
    "collapsed": false,
    "pycharm": {
     "name": "#%%\n"
    }
   }
  }
 ],
 "metadata": {
  "kernelspec": {
   "display_name": "Python 3",
   "language": "python",
   "name": "python3"
  },
  "language_info": {
   "codemirror_mode": {
    "name": "ipython",
    "version": 2
   },
   "file_extension": ".py",
   "mimetype": "text/x-python",
   "name": "python",
   "nbconvert_exporter": "python",
   "pygments_lexer": "ipython2",
   "version": "2.7.6"
  }
 },
 "nbformat": 4,
 "nbformat_minor": 0
}